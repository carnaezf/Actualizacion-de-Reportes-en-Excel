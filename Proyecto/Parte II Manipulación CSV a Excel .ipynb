{
 "cells": [
  {
   "cell_type": "markdown",
   "id": "e1d8f8a5",
   "metadata": {},
   "source": [
    "# Parte II:\n",
    "## Creación archivos en formato xlsx.\n",
    "### Limpieza, manipulacion y escritura de datos de archivos csv a xlsx."
   ]
  },
  {
   "cell_type": "code",
   "execution_count": 58,
   "id": "663a2e7e",
   "metadata": {
    "scrolled": false
   },
   "outputs": [],
   "source": [
    "import chardet\n",
    "import pandas as pd\n",
    "import xlwings as xw\n",
    "import datetime as dt\n",
    "import os\n",
    "import openpyxl as xl\n",
    "import datetime as dt"
   ]
  },
  {
   "cell_type": "markdown",
   "id": "f0054abb",
   "metadata": {},
   "source": [
    "### Creando variables que alojarán ruta donde se almacenan archivos csv bases originales."
   ]
  },
  {
   "cell_type": "code",
   "execution_count": 59,
   "id": "175104bf",
   "metadata": {
    "scrolled": false
   },
   "outputs": [],
   "source": [
    "# Ruta para ubicaciones en carpeta compartida.\n",
    "\n",
    "path1 = r\"C:\\Users\\c_arn\\Desktop\\Taller Pyday2022\\Ubicacion original\"\n",
    "path2 = r\"C:\\Users\\c_arn\\Desktop\\Taller Pyday2022\\Proyecto\"\n",
    "\n",
    "\n",
    "# Ruta para ubicaciones en carpeta local.\n",
    "path_carpeta_1 = \"bases_csv_automaticas\"\n",
    "path_carpeta_2 = \"auto_excel\"\n",
    "\n",
    "\n",
    "MM60_coq_auto = os.path.join(path1, path2, path_carpeta_1, \"8_archivo de prueba.csv\")\n",
    "Doc_compra_coq_auto = os.path.join(path1, path2, path_carpeta_1, \"4_admitted.csv\")\n",
    "compras_coq_auto = os.path.join(path1, path2, path_carpeta_1, \"1_purch.csv\")  \n",
    "Factura_coq_auto = os.path.join(path1, path2, path_carpeta_1, \"5_archivo de prueba.csv\")\n",
    "MB51_coq_auto = os.path.join(path1, path2, path_carpeta_1, \"7_archivo de prueba.csv\")\n",
    "ZMM_COMPRAS_CL_coq_auto = os.path.join(path1, path2, path_carpeta_1, \"11_archivo de prueba.csv\")\n",
    "stock_diario_coq_auto = os.path.join(path1, path2, path_carpeta_1, \"10_archivo de prueba.csv\")\n",
    "compras_hes_cl_coq_auto = os.path.join(path1, path2, path_carpeta_1, \"2_archivo de prueba.csv\")\n",
    "MB25_coq_auto = os.path.join(path1, path2, path_carpeta_1, \"6_archivo de prueba.csv\")\n",
    "control_entregas_coq_auto = os.path.join(path1, path2, path_carpeta_1, \"3_archivo de prueba.csv\")\n",
    "solped_coq_auto = os.path.join(path1, path2, path_carpeta_1, \"9_archivo de prueba.csv\")\n",
    "dcmarco_coq_auto = os.path.join(path1, path2, path_carpeta_1, \"12_archivo de prueba.csv\")\n",
    "\n",
    "lista_rutas_csv_base = [\n",
    "MM60_coq_auto,\n",
    "Doc_compra_coq_auto,\n",
    "compras_coq_auto,\n",
    "Factura_coq_auto,\n",
    "MB51_coq_auto,\n",
    "ZMM_COMPRAS_CL_coq_auto,\n",
    "stock_diario_coq_auto,\n",
    "compras_hes_cl_coq_auto,\n",
    "MB25_coq_auto,\n",
    "control_entregas_coq_auto,\n",
    "solped_coq_auto,\n",
    "dcmarco_coq_auto]\n",
    "\n",
    "# for ruta in lista_rutas_csv_base:\n",
    "#     print(ruta)\n",
    "    \n",
    "# print(list(enumerate(lista_rutas_csv_base)))"
   ]
  },
  {
   "cell_type": "markdown",
   "id": "bdb487c6",
   "metadata": {},
   "source": [
    "### Creando variables que alojan rutas donde se almacenan archivos .xlsx creados a partir de bases csv."
   ]
  },
  {
   "cell_type": "code",
   "execution_count": 69,
   "id": "462ca9cc",
   "metadata": {
    "scrolled": false
   },
   "outputs": [],
   "source": [
    "MM60_coq_auto_xlsx = os.path.join(path1, path2, path_carpeta_2, \"8_archivo de prueba.xlsx\")\n",
    "Doc_compra_coq_auto_xlsx = os.path.join(path1, path2, path_carpeta_2, \"4_admitted.xlsx\")\n",
    "compras_coq_auto_xlsx = os.path.join(path1, path2, path_carpeta_2, \"1_purch.xlsx\")  \n",
    "Factura_coq_auto_xlsx = os.path.join(path1, path2, path_carpeta_2, \"5_archivo de prueba.xlsx\")\n",
    "MB51_coq_auto_xlsx = os.path.join(path1, path2, path_carpeta_2, \"7_archivo de prueba.xlsx\")\n",
    "ZMM_COMPRAS_CL_coq_auto_xlsx = os.path.join(path1, path2, path_carpeta_2, \"11_archivo de prueba.xlsx\")\n",
    "stock_diario_coq_auto_xlsx = os.path.join(path1, path2, path_carpeta_2, \"10_archivo de prueba.xlsx\")\n",
    "compras_hes_cl_coq_auto_xlsx = os.path.join(path1, path2, path_carpeta_2, \"2_archivo de prueba.xlsx\")\n",
    "MB25_coq_auto_xlsx = os.path.join(path1, path2, path_carpeta_2, \"6_archivo de prueba.xlsx\")\n",
    "control_entregas_coq_auto_xlsx = os.path.join(path1, path2, path_carpeta_2, \"3_archivo de prueba.xlsx\")\n",
    "solped_coq_auto_xlsx = os.path.join(path1, path2, path_carpeta_2, \"9_archivo de prueba.xlsx\")\n",
    "dcmarco_coq_auto_xlsx = os.path.join(path1, path2, path_carpeta_2, \"12_archivo de prueba.xlsx\")\n",
    "DF_Compras_ingresos = os.path.join(path1, path2, path_carpeta_2, \"A_DF_Compras_ingresos.xlsx\")\n",
    "DF_MB51_informe = os.path.join(path1, path2, path_carpeta_2, \"B_DF_MB51_informe.xlsx\")\n",
    "\n",
    "# Etiquetas\n",
    "etiquetas_xlsx = os.path.join(path1, path2, path_carpeta_2, \"etiquetas.xlsx\")\n",
    "\n",
    "\n",
    "lista_rutas_xlsx_auto = [\n",
    "MM60_coq_auto_xlsx,\n",
    "Doc_compra_coq_auto_xlsx,\n",
    "compras_coq_auto_xlsx,\n",
    "Factura_coq_auto_xlsx,\n",
    "MB51_coq_auto_xlsx,\n",
    "ZMM_COMPRAS_CL_coq_auto_xlsx,\n",
    "stock_diario_coq_auto_xlsx,\n",
    "compras_hes_cl_coq_auto_xlsx,\n",
    "MB25_coq_auto_xlsx,\n",
    "control_entregas_coq_auto_xlsx,\n",
    "solped_coq_auto_xlsx,\n",
    "dcmarco_coq_auto_xlsx,\n",
    "DF_Compras_ingresos, # Nuevo libro con operaciones con openpyxl y xlwings\n",
    "DF_MB51_informe, # Nuevo libro con operaciones con openpyxl y xlwings\n",
    "etiquetas_xlsx #Libro creado a partir de archivo xlsx\n",
    "]\n",
    "\n",
    "# for ruta in lista_rutas_xlsx_auto:\n",
    "#     print(ruta)"
   ]
  },
  {
   "cell_type": "markdown",
   "id": "c5edef7c",
   "metadata": {},
   "source": [
    "## Imprimiendo nombre de encoding\n",
    "Usamos nuestra funcion 'identificandor_archivo_encoding'."
   ]
  },
  {
   "cell_type": "markdown",
   "id": "2a75aff2",
   "metadata": {},
   "source": [
    "# Construyendo funciones que funcionarán como convertidores\n",
    "# de columnas en DF."
   ]
  },
  {
   "cell_type": "code",
   "execution_count": 61,
   "id": "efc2b041",
   "metadata": {
    "scrolled": false
   },
   "outputs": [],
   "source": [
    "def a_int_de_str_punto_decimal(string):\n",
    "    \"\"\" Convierte '999.999,0' a 999999.0\"\"\"\n",
    "    try:\n",
    "        return float(string.replace('.', '').replace(',', '.'))\n",
    "    except:\n",
    "        return string\n",
    "\n",
    "    \n",
    "    \n",
    "    \n",
    "def substitutor(fecha):\n",
    "    \"\"\"Funcion para ser usada en columnas de tipo fecha\"\"\"\n",
    "    return fecha.replace('.', '-')\n",
    "\n"
   ]
  },
  {
   "cell_type": "markdown",
   "id": "cb30489c",
   "metadata": {},
   "source": [
    "# Creando Dataframes y escribiendo libros Excel\n",
    "## 8_MM60_excel.xlsx :  ISO-8859-1\n",
    "\n",
    "### Columnas con \",\" decimal:\n",
    "- Precio\n",
    "\n",
    "### Columnas formato fecha:\n",
    "- Ultima Modif."
   ]
  },
  {
   "cell_type": "code",
   "execution_count": 65,
   "id": "c9449ae1",
   "metadata": {
    "scrolled": false
   },
   "outputs": [],
   "source": [
    "# Creando DataFrames desde archivos csv.\n",
    "VALOR_PROMEDIO_PONDERADO = pd.read_csv(lista_rutas_csv_base[0], encoding='ISO-8859-1', sep=';', \n",
    "                          low_memory = False,\n",
    "                          converters={'Precio': a_int_de_str_punto_decimal})\n",
    "\n",
    "\n",
    "# # Visualizando version a guardar en formato .xlxs\n",
    "# xw.view(VALOR_PROMEDIO_PONDERADO)\n",
    "\n",
    "\n",
    "# Escribiendo DataFrame en libro excel'\n",
    "VALOR_PROMEDIO_PONDERADO.to_excel(lista_rutas_xlsx_auto[0], sheet_name=\"Output\",\n",
    "                     header=True, na_rep=\"\", inf_rep=\"\", index=True)\n"
   ]
  },
  {
   "cell_type": "markdown",
   "id": "0dc44340",
   "metadata": {},
   "source": [
    "## 4_Doc_compra_excel.xlsx :  ascii (Contabilización)\n",
    "### Columnas con \",\" decimal:\n",
    "- Cantidad\n",
    "- Doc.compr.\n",
    "- Pos.\n",
    "\n",
    "\n",
    "### Columnas formato fecha:\n",
    "- FechaEntr\n",
    "- Fe.contab.\n",
    "- Fecha doc.\n"
   ]
  },
  {
   "cell_type": "code",
   "execution_count": 66,
   "id": "ba474e3e",
   "metadata": {
    "scrolled": false
   },
   "outputs": [],
   "source": [
    "# Crendo DataFrame\n",
    "INGRESO = pd.read_csv(lista_rutas_csv_base[1], sep=';',\n",
    "                          encoding='ISO-8859-1',\n",
    "                          low_memory = False,\n",
    "                          converters={'Cantidad': a_int_de_str_punto_decimal}) # encoding='ascii'\n",
    "                                      \n",
    "#                                       ,\n",
    "#                                       'Doc.compr.': a_int_de_str_punto_decimal,\n",
    "#                                       'Pos.': a_int_de_str_punto_decimal})\n",
    "\n",
    "# # Convirtiendo columnas que corresponde a valores con formato \"fecha\".\n",
    "INGRESO[\"FechaEntr\"]= pd.to_datetime(INGRESO[\"FechaEntr\"])\n",
    "INGRESO[\"Fe.contab.\"]= pd.to_datetime(INGRESO[\"Fe.contab.\"])\n",
    "INGRESO[\"Fecha doc.\"]= pd.to_datetime(INGRESO[\"Fecha doc.\"])\n",
    "INGRESO[\"Concatena_oc_pos\"] = INGRESO[\"Doc.compr.\"].astype(str) + INGRESO[\"Pos.\"].astype(str)\n",
    "# INGRESO[\"Concatena_oc_pos\"] = INGRESO[\"Doc.compr.\"].astype + INGRESO[\"Pos.\"].astype\n",
    "\n",
    "#Asignado indice\n",
    "INGRESO.set_index(\"Concatena_oc_pos\", inplace = True)\n",
    "\n",
    "# # Visualizando version a guardar en formato .xlxs\n",
    "# xw.view(INGRESO)\n",
    "\n",
    "\n",
    "\n",
    "# Escribiendo DataFrame en libro excel'\n",
    "INGRESO.to_excel(lista_rutas_xlsx_auto[1], sheet_name=\"Output\",\n",
    "                     header=True, na_rep=\"\", inf_rep=\"\", index=True)"
   ]
  },
  {
   "cell_type": "markdown",
   "id": "14da2303",
   "metadata": {},
   "source": [
    "## 1_compras_excel.xlsx :  ISO-8859-1\n",
    "### Columnas con \",\" decimal:\n",
    "- C.Rec.\n",
    "- V.Rec.\n",
    "- C.Fac.\n",
    "- V.Fac.\n",
    "- Antic.\n",
    "- Tp.cambio\n",
    "- TipoCambio\n",
    "- Cantidad\n",
    "- CxCal\n",
    "- CxEnt\n",
    "- Valor neto\n",
    "- Valor efec\n",
    "- VxCal\n",
    "- VxEnt\n",
    "- V.neto ML\n",
    "\n",
    "### Columnas formato fecha:\n",
    "- El\n",
    "- FULib\n",
    "- Fe.entrega\n",
    "- Fecha doc.\n",
    "- Fe.solic.\n",
    "- Fe.Migo\n"
   ]
  },
  {
   "cell_type": "code",
   "execution_count": 68,
   "id": "51422fa6",
   "metadata": {
    "scrolled": false
   },
   "outputs": [],
   "source": [
    "# Crendo DataFrame\n",
    "COMPRAS_BASE = pd.read_csv(lista_rutas_csv_base[2], encoding='ISO-8859-1', sep=';', \n",
    "                          low_memory = False)\n",
    "                           \n",
    "#                           converters={'C.Rec.': a_int_de_str_punto_decimal,\n",
    "#                                       'V.Rec.': a_int_de_str_punto_decimal,\n",
    "#                                       'C.Fac.': a_int_de_str_punto_decimal,\n",
    "#                                       'V.Fac.': a_int_de_str_punto_decimal,\n",
    "#                                       'Antic.': a_int_de_str_punto_decimal,\n",
    "#                                       'Tp.cambio': a_int_de_str_punto_decimal,\n",
    "#                                       'TipoCambio': a_int_de_str_punto_decimal,\n",
    "#                                       'Cantidad': a_int_de_str_punto_decimal,\n",
    "#                                       'CxCal': a_int_de_str_punto_decimal,\n",
    "#                                       'CxEnt': a_int_de_str_punto_decimal,\n",
    "#                                       'Valor neto': a_int_de_str_punto_decimal,\n",
    "#                                       'Valor efec': a_int_de_str_punto_decimal,\n",
    "#                                       'VxCal': a_int_de_str_punto_decimal,\n",
    "#                                       'VxEnt': a_int_de_str_punto_decimal,\n",
    "#                                       'V.neto ML': a_int_de_str_punto_decimal})\n",
    "\n",
    "\n",
    " \n",
    "# # Convirtiendo columnas que corresponde a valores con formato \"fecha\" usando funcion substitutor.\n",
    "\n",
    "COMPRAS_BASE[\"El\"] = COMPRAS_BASE[\"El\"].apply(substitutor)\n",
    "# COMPRAS_BASE[\"FULib\"] = COMPRAS_BASE[\"FULib\"].apply(substitutor)\n",
    "COMPRAS_BASE[\"Fe.entrega\"] = COMPRAS_BASE[\"Fe.entrega\"].apply(substitutor)\n",
    "COMPRAS_BASE[\"Fecha doc.\"] = COMPRAS_BASE[\"Fecha doc.\"].apply(substitutor)\n",
    "# COMPRAS_BASE[\"Fe.solic.\"] = COMPRAS_BASE[\"Fe.solic.\"].apply(substitutor)\n",
    "# COMPRAS_BASE[\"Fe.Migo\"] = COMPRAS_BASE[\"Fe.Migo\"].apply(substitutor)\n",
    "\n",
    "COMPRAS_BASE = COMPRAS_BASE.fillna(\"\")\n",
    "\n",
    "COMPRAS_BASE[\"Concatena_oc_pos\"] = \"\"\n",
    "# COMPRAS_BASE[\"Concatena_oc_pos\"] = COMPRAS_BASE[\"Doc.compr.\"].astype(str) + COMPRAS_BASE[\"Posición\"].astype(str)\n",
    "\n",
    "# Creamos una nueva columna que contatena Centro, Almacén y Material.\n",
    "COMPRAS_BASE[\"Concatenar\"] = \"\"\n",
    "# COMPRAS_BASE[\"Concatenar\"] = COMPRAS_BASE[\"Centro\"].astype(str) + COMPRAS_BASE[\"Almacén\"].astype(str) + COMPRAS_BASE[\"Material\"].astype(str)\n",
    "\n",
    "\n",
    "# Creando indice\n",
    "COMPRAS_BASE.set_index(\"Concatena_oc_pos\", inplace = True)\n",
    "\n",
    "\n",
    "# Visualizando version a guardar en formato .xlxs\n",
    "# xw.view(COMPRAS_BASE)\n",
    "\n",
    "# Escribiendo DataFrame en libro excel'\n",
    "COMPRAS_BASE.to_excel(lista_rutas_xlsx_auto[2], sheet_name=\"Output\",\n",
    "                     header=True, na_rep=\"\", inf_rep=\"\", index=True)"
   ]
  },
  {
   "cell_type": "markdown",
   "id": "5b8b3d9a",
   "metadata": {},
   "source": [
    "## 5_Factura_diario_excel.xlsx :  ISO-8859-1\n",
    "\n",
    "### Columnas con \",\" decimal:\n",
    "- V.Rec.\n",
    "- V.Fac.\n",
    "- Valor neto\n",
    "- Valor efec\n",
    "- V.neto ML\n",
    "- Bruto\n",
    "- V.Neto.Ser\n",
    "\n",
    "### Columnas formato fecha:\n",
    "\n",
    "- El\n",
    "- FULib\n",
    "- Fe.entrega\n",
    "- Fecha doc.\n",
    "- Fe.solic."
   ]
  },
  {
   "cell_type": "code",
   "execution_count": 70,
   "id": "e2973751",
   "metadata": {
    "scrolled": false
   },
   "outputs": [],
   "source": [
    "# Faltan crear columnas calculadas con formulas Excel.\n",
    "\n",
    "# Crendo DataFrame\n",
    "FACTURAS = pd.read_csv(lista_rutas_csv_base[3], encoding='ISO-8859-1', sep=';', \n",
    "                       low_memory = False)\n",
    "\n",
    "\n",
    "# # Visualizando version a guardar en formato .xlxs\n",
    "# xw.view(FACTURAS)\n",
    "\n",
    "\n",
    "# Escribiendo DataFrame en libro excel'\n",
    "FACTURAS.to_excel(lista_rutas_xlsx_auto[3], sheet_name=\"Output\",\n",
    "                     header=True, na_rep=\"\", inf_rep=\"\", index=False)\n",
    "\n"
   ]
  },
  {
   "cell_type": "markdown",
   "id": "cdacfd84",
   "metadata": {},
   "source": [
    "## 7_MB51_excel.xlsx :  ISO-8859-1\n",
    "### Columnas con \",\" decimal:\n",
    "- Impte.ML\n",
    "### Columnas formato fecha:\n",
    "- Registrado\n",
    "- Fecha doc.\n",
    "- Fecha contab."
   ]
  },
  {
   "cell_type": "code",
   "execution_count": 71,
   "id": "1a39e8d5",
   "metadata": {
    "scrolled": false
   },
   "outputs": [],
   "source": [
    "# Crendo DataFrame\n",
    "HISTORIAL_MP = pd.read_csv(lista_rutas_csv_base[4], encoding='ISO-8859-1', sep=';', \n",
    "                          low_memory = False,\n",
    "                           )\n",
    "\n",
    "\n",
    "# # Visualizando version a guardar en formato .xlxs\n",
    "# xw.view(HISTORIAL_MP)\n",
    "\n",
    "\n",
    "\n",
    "HISTORIAL_MP.to_excel(lista_rutas_xlsx_auto[4], sheet_name=\"Output\",\n",
    "                     header=True, index=True)"
   ]
  },
  {
   "cell_type": "code",
   "execution_count": 72,
   "id": "a5f6de2c",
   "metadata": {
    "scrolled": true
   },
   "outputs": [],
   "source": [
    "# HISTORIAL_MP.info()"
   ]
  },
  {
   "cell_type": "markdown",
   "id": "6e017c09",
   "metadata": {},
   "source": [
    "## 11_ZMM_COMPRAS_CL_excel.xlsx :  ISO-8859-1\n",
    "### Columnas formato fecha:\n",
    "- Mod."
   ]
  },
  {
   "cell_type": "code",
   "execution_count": 74,
   "id": "cd69364f",
   "metadata": {
    "scrolled": false
   },
   "outputs": [],
   "source": [
    "# Crendo DataFrame\n",
    "TEXTO_CABECERA_OC = pd.read_csv(lista_rutas_csv_base[5], encoding='ISO-8859-1', sep=';', \n",
    "                          low_memory = False)\n",
    "\n",
    "# # Visualizando version a guardar en formato .xlxs\n",
    "# xw.view(TEXTO_CABECERA_OC)\n",
    "\n",
    "# Escribiendo DataFrame en libro excel'\n",
    "TEXTO_CABECERA_OC.to_excel(lista_rutas_xlsx_auto[5], sheet_name=\"Output\",\n",
    "                     header=True, na_rep=\"\", inf_rep=\"\", index=False)"
   ]
  },
  {
   "cell_type": "markdown",
   "id": "c1475409",
   "metadata": {},
   "source": [
    "## 10_MB52_stock_diario_excel.xlsx :  ascii\n",
    "### Columnas con \",\" decimal:\n",
    "- Stock LibUt."
   ]
  },
  {
   "cell_type": "code",
   "execution_count": 75,
   "id": "196a16aa",
   "metadata": {
    "scrolled": false
   },
   "outputs": [],
   "source": [
    "# Crendo DataFrame\n",
    "STOCK_AP = pd.read_csv(lista_rutas_csv_base[6], encoding='ascii', sep=';', \n",
    "                      low_memory = False)\n",
    "#                       ,\n",
    "#                       converters={'Stock LibUt.': a_int_de_str_punto_decimal})\n",
    "\n",
    "# # Visualizando version a guardar en formato .xlxs\n",
    "# xw.view(STOCK_AP)\n",
    "\n",
    "\n",
    "# Escribiendo DataFrame en libro excel'\n",
    "STOCK_AP.to_excel(lista_rutas_xlsx_auto[6], sheet_name=\"Output\",\n",
    "                     header=True, na_rep=\"\", inf_rep=\"\", index=False)"
   ]
  },
  {
   "cell_type": "markdown",
   "id": "af7cddc9",
   "metadata": {},
   "source": [
    "## 2_compras_hes_cl_diario_excel.xlsx :  ISO-8859-1\n",
    "### Columnas con \",\" decimal:\n",
    "- V.Rec.\n",
    "- V.Fac.\n",
    "- Valor neto\n",
    "- Valor efec\n",
    "- V.neto ML\n",
    "- Bruto\n",
    "- V.Neto.Ser\n",
    "- Tp.cambio.1\n",
    "\n",
    "### Columnas formato fecha:\n",
    "- El\n",
    "- FULib\n",
    "- Fe.entrega\n",
    "- Fecha doc.\n",
    "- Fe.solic.\n",
    "\n",
    "### Columnas sin cabecera desde origen:\n",
    "- Desconocido 1\n",
    "- Desconocido 2\n",
    "- Desconocido 3\n",
    "- Desconocido\n",
    "- Solped2\n",
    "- Texto oc\n",
    "- Ceco"
   ]
  },
  {
   "cell_type": "code",
   "execution_count": 76,
   "id": "8eb170f2",
   "metadata": {
    "scrolled": false
   },
   "outputs": [],
   "source": [
    "# Crendo DataFrame\n",
    "HES_HAS = pd.read_csv(lista_rutas_csv_base[7], encoding='ISO-8859-1', sep=';', \n",
    "                     low_memory = False)\n",
    "\n",
    "# # Visualizando version a guardar en formato .xlxs\n",
    "# xw.view(HES_HAS)\n",
    "\n",
    "\n",
    "# Escribiendo DataFrame en libro excel'\n",
    "HES_HAS.to_excel(lista_rutas_xlsx_auto[7], sheet_name=\"Output\",\n",
    "                     header=True, na_rep=\"\", inf_rep=\"\", index=False)"
   ]
  },
  {
   "cell_type": "markdown",
   "id": "f5a8b879",
   "metadata": {},
   "source": [
    "## 6_MB25_excel.xlsx :  ISO-8859-1\n",
    "### Columnas con \",\" decimal:\n",
    "\n",
    "- Ctd.nec.\n",
    "- Ctd.dif.\n",
    "- Ctd.UME\n",
    "\n",
    "### Columnas formato fecha:\n",
    "\n",
    "- Fecha base\n",
    "- Fecha nec.\n"
   ]
  },
  {
   "cell_type": "code",
   "execution_count": 78,
   "id": "498e5076",
   "metadata": {
    "scrolled": false
   },
   "outputs": [],
   "source": [
    "# Crendo DataFrame\n",
    "RESERVAS = pd.read_csv(lista_rutas_csv_base[8], encoding='ISO-8859-1', sep=';', \n",
    "                      low_memory = False)\n",
    "\n",
    "# Escribiendo DataFrame en libro excel'\n",
    "RESERVAS.to_excel(lista_rutas_xlsx_auto[8], sheet_name=\"Output\",\n",
    "                     header=True, na_rep=\"\", inf_rep=\"\", index=False)"
   ]
  },
  {
   "cell_type": "markdown",
   "id": "75167505",
   "metadata": {},
   "source": [
    "## 3_control_entregas_excel.xlsx :  ISO-8859-1\n",
    "### Columnas con \",\" decimal:\n",
    "\n",
    "- Q SOLICITADA\n",
    "- Q.COMPRADA\n",
    "- Q.RECIBIDO\n",
    "- Q.FALTANTE\n",
    "\n",
    "### Columnas formato fecha:\n",
    "\n",
    "- FECHA CREACIÓN SOLPED\n",
    "- FECHA NECESIDAD SOLPED\n",
    "- FECHA CREACIÓN PEDIDO\n",
    "- FECHA ÚLT.LIBERACIÓN PEDIDO\n",
    "- FECHA EST. ENTREGA 1\n",
    "- FECHA EST. ENTREGA 2\n",
    "- FECHA EST. ENTREGA 3\n",
    "- FECHA EST. ENTREGA 4\n",
    "- FECHA EST. ENTREGA 5"
   ]
  },
  {
   "cell_type": "code",
   "execution_count": 80,
   "id": "36aa5bff",
   "metadata": {
    "scrolled": false
   },
   "outputs": [],
   "source": [
    "# Crendo DataFrame\n",
    "CONTROL_ENTREGAS = pd.read_csv(lista_rutas_csv_base[9], encoding='ISO-8859-1', sep=';', \n",
    "                              low_memory = False)\n",
    "\n",
    "# # Visualizando version a guardar en formato .xlxs\n",
    "# xw.view(CONTROL_ENTREGAS )\n",
    "\n",
    "\n",
    "# Escribiendo DataFrame en libro excel'\n",
    "CONTROL_ENTREGAS.to_excel(lista_rutas_xlsx_auto[9], sheet_name=\"Output\",\n",
    "                     header=True, na_rep=\"\", inf_rep=\"\", index=False)"
   ]
  },
  {
   "cell_type": "markdown",
   "id": "9461b9b6",
   "metadata": {},
   "source": [
    "## 9_solped_excel.xlsx :  ISO-8859-1\n",
    "### Columnas con \",\" decimal:\n",
    "- PrecioVal.\n",
    "- Valor tot.\n",
    "- Val.ML\n",
    "\n",
    "\n",
    "### Columnas formato fecha:\n",
    "- Fe.solic.\n",
    "- Fe.entrega\n",
    "- Fe.liber.\n",
    "- Fe.pedido"
   ]
  },
  {
   "cell_type": "code",
   "execution_count": 82,
   "id": "e64fea6e",
   "metadata": {
    "scrolled": false
   },
   "outputs": [],
   "source": [
    "# Crendo DataFrame\n",
    "SOLPEDS = pd.read_csv(lista_rutas_csv_base[10], encoding='ISO-8859-1', sep=';', \n",
    "                     low_memory = False)\n",
    "\n",
    "\n",
    "# # Visualizando version a guardar en formato .xlxs\n",
    "# xw.view(SOLPEDS)\n",
    "\n",
    "\n",
    "# Escribiendo DataFrame en libro excel'\n",
    "SOLPEDS.to_excel(lista_rutas_xlsx_auto[10], sheet_name=\"Output\",\n",
    "                     header=True, na_rep=\"\", inf_rep=\"\", index=False)"
   ]
  },
  {
   "cell_type": "markdown",
   "id": "014b73f8",
   "metadata": {},
   "source": [
    "## 12_dcmarco_excel.xlsx :  ISO-8859-1"
   ]
  },
  {
   "cell_type": "code",
   "execution_count": 83,
   "id": "337d170e",
   "metadata": {
    "scrolled": false
   },
   "outputs": [],
   "source": [
    "# Crendo DataFrame\n",
    "CONTRATOS_MARCO = pd.read_csv(lista_rutas_csv_base[11], encoding='ISO-8859-1', sep=';', \n",
    "                          low_memory = False)\n",
    "\n",
    "\n",
    "# # Visualizando version a guardar en formato .xlxs\n",
    "# xw.view(CONTRATOS_MARCO)\n",
    "                                \n",
    "\n",
    "# Escribiendo DataFrame en libro excel'\n",
    "CONTRATOS_MARCO.to_excel(lista_rutas_xlsx_auto[11], sheet_name=\"Output\",\n",
    "                     header=True, na_rep=\"\", inf_rep=\"\", index=False)"
   ]
  },
  {
   "cell_type": "markdown",
   "id": "d3f26900",
   "metadata": {},
   "source": [
    "# Cruzando informes\n",
    "## Acciones:\n",
    "- Se realiza cruce de Dataframes como se haria con un BUSCARV.\n",
    "- Suman colunmas que alojaran columnas con formulas de excel insertadas en parte III.\n",
    "- Se agrega una hoja nueva en cada cruce de DF que tendra las etiquetas para reporterias.\n"
   ]
  },
  {
   "cell_type": "markdown",
   "id": "823f249f",
   "metadata": {},
   "source": [
    "## Creando nuevas columnas en DF COMPRAS_BASE (\"compras_coq_auto\")\n",
    "## que alojaran campos calculados con formulas Excel\n",
    "\n",
    "- Fe.contab.\n",
    "- Doc.mat."
   ]
  },
  {
   "cell_type": "code",
   "execution_count": 88,
   "id": "9a146b69",
   "metadata": {
    "scrolled": false
   },
   "outputs": [],
   "source": [
    "# Indice debe ser de tipo numero.\n",
    "\n",
    "# Manipulando DF COMPRAS_BASE (\"compras_coq_auto\").\n",
    "DF_Combinado = pd.read_excel(compras_coq_auto_xlsx)\n",
    "\n",
    "\n",
    "# # Agegando Nuevas columnas:\n",
    "# # Columna \"Gestion Oc\"\n",
    "DF_Combinado[\"Gestion Oc\"] = \"\"\n",
    "\n",
    "# # Columna \"Grupo Compras\"\n",
    "DF_Combinado[\"Grupo Compras\"] = \"\"\n",
    "\n",
    "# # Columna \"mes documento\"\n",
    "DF_Combinado[\"mes documento\"] = \"\"\n",
    "\n",
    "# # Columna \"mes entrega\"\n",
    "DF_Combinado[\"mes entrega\"] = \"\"\n",
    "\n",
    "# # Columna \"Status_oc\"\n",
    "DF_Combinado[\"Status_oc\"] = \"\"\n",
    "\n",
    "# # Columna \"Cta OC\"\n",
    "DF_Combinado[\"Cta OC\"] = \"\"\n",
    "\n",
    "# # Columna \"Sem\"\n",
    "DF_Combinado[\"Sem\"] = \"\"\n",
    "\n",
    "# # Columna \"Año\"\n",
    "DF_Combinado[\"Año\"] = \"\"\n",
    "\n",
    "# # Columna \"Año\"\n",
    "DF_Combinado[\"Doc. Ingreso\"] = \"\"\n",
    "\n",
    "# # Columna \"Año\"\n",
    "DF_Combinado[\"Fecha Ingreso\"] = \"\"\n",
    "\n",
    "# # Columna \"Año\"\n",
    "DF_Combinado[\"Centro.\"] = \"\"\n",
    "\n",
    "# # # Columna \"Año\"\n",
    "# DF_Combinado[\"V.neto ML (temporal)\"] = \"\"\n",
    "\n",
    "\n",
    "DF_Combinado.to_excel(DF_Compras_ingresos, sheet_name=\"Output\",\n",
    "                     header=True, na_rep=\"\", inf_rep=\"\", index=False)\n",
    "\n",
    "\n",
    "# Llegando a este punto, creamos una nueva hoja usando liberia openpyxl.\n",
    "# etiquetas_xlsx ---> arch fuente\n",
    "# Data_Frame_Compras_ingresos_xlsx ---> arch destino\n",
    "\n",
    "path_a = etiquetas_xlsx \n",
    "path_b = DF_Compras_ingresos\n",
    "\n",
    "wb1 = xl.load_workbook(filename=path_a)\n",
    "ws1 = wb1.worksheets[0]\n",
    "\n",
    "wb2 = xl.load_workbook(filename=path_b)\n",
    "ws2 = wb2.create_sheet(ws1.title)\n",
    "\n",
    "for row in ws1:\n",
    "    for cell in row:\n",
    "        ws2[cell.coordinate].value = cell.value\n",
    "\n",
    "wb2.save(path_b)"
   ]
  },
  {
   "cell_type": "code",
   "execution_count": null,
   "id": "87f94d10",
   "metadata": {
    "scrolled": false
   },
   "outputs": [],
   "source": []
  }
 ],
 "metadata": {
  "kernelspec": {
   "display_name": "Python 3 (ipykernel)",
   "language": "python",
   "name": "python3"
  },
  "language_info": {
   "codemirror_mode": {
    "name": "ipython",
    "version": 3
   },
   "file_extension": ".py",
   "mimetype": "text/x-python",
   "name": "python",
   "nbconvert_exporter": "python",
   "pygments_lexer": "ipython3",
   "version": "3.9.7"
  }
 },
 "nbformat": 4,
 "nbformat_minor": 5
}
