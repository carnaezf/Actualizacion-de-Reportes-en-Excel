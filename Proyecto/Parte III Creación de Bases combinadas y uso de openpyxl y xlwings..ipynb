{
 "cells": [
  {
   "cell_type": "markdown",
   "id": "e1d8f8a5",
   "metadata": {},
   "source": [
    "# Parte III:\n",
    "# Manipulacion de libros Excel incorporando xlwings."
   ]
  },
  {
   "cell_type": "code",
   "execution_count": 6,
   "id": "663a2e7e",
   "metadata": {},
   "outputs": [],
   "source": [
    "import chardet\n",
    "import pandas as pd\n",
    "import xlwings as xw\n",
    "import datetime as dt\n",
    "import os\n",
    "import openpyxl as xl\n",
    "# import names as nms"
   ]
  },
  {
   "cell_type": "markdown",
   "id": "dcb4db8b",
   "metadata": {},
   "source": [
    "### Creando variables que alojan rutas donde se almacenan archivos .xlsx creados a partir de bases csv."
   ]
  },
  {
   "cell_type": "code",
   "execution_count": 11,
   "id": "8192594d",
   "metadata": {
    "scrolled": true
   },
   "outputs": [],
   "source": [
    "# Ruta para ubicaciones en carpeta compartida.\n",
    "\n",
    "path1 = r\"X:\\xxxx\\xxxxx\\Desktop\\Taller Pyday2022\\Ubicacion original\"\n",
    "path2 = r\"X:\\xxxx\\xxxxx\\Desktop\\Taller Pyday2022\\Proyecto\"\n",
    "\n",
    "\n",
    "# Ruta para ubicaciones en carpeta local.\n",
    "path_carpeta_1 = \"bases_csv_automaticas\"\n",
    "path_carpeta_2 = \"auto_excel\"\n",
    "\n",
    "\n",
    "MM60_coq_auto_xlsx = os.path.join(path1, path2, path_carpeta_2, \"8_archivo de prueba.xlsx\")\n",
    "Doc_compra_coq_auto_xlsx = os.path.join(path1, path2, path_carpeta_2, \"4_admitted.xlsx\")\n",
    "compras_coq_auto_xlsx = os.path.join(path1, path2, path_carpeta_2, \"1_purch.xlsx\")  \n",
    "Factura_coq_auto_xlsx = os.path.join(path1, path2, path_carpeta_2, \"5_archivo de prueba.xlsx\")\n",
    "MB51_coq_auto_xlsx = os.path.join(path1, path2, path_carpeta_2, \"7_archivo de prueba.xlsx\")\n",
    "ZMM_COMPRAS_CL_coq_auto_xlsx = os.path.join(path1, path2, path_carpeta_2, \"11_archivo de prueba.xlsx\")\n",
    "stock_diario_coq_auto_xlsx = os.path.join(path1, path2, path_carpeta_2, \"10_archivo de prueba.xlsx\")\n",
    "compras_hes_cl_coq_auto_xlsx = os.path.join(path1, path2, path_carpeta_2, \"2_archivo de prueba.xlsx\")\n",
    "MB25_coq_auto_xlsx = os.path.join(path1, path2, path_carpeta_2, \"6_archivo de prueba.xlsx\")\n",
    "control_entregas_coq_auto_xlsx = os.path.join(path1, path2, path_carpeta_2, \"3_archivo de prueba.xlsx\")\n",
    "solped_coq_auto_xlsx = os.path.join(path1, path2, path_carpeta_2, \"9_archivo de prueba.xlsx\")\n",
    "dcmarco_coq_auto_xlsx = os.path.join(path1, path2, path_carpeta_2, \"12_archivo de prueba.xlsx\")\n",
    "DF_Compras_ingresos = os.path.join(path1, path2, path_carpeta_2, \"A_DF_Compras_ingresos.xlsx\")\n",
    "DF_MB51_informe = os.path.join(path1, path2, path_carpeta_2, \"B_DF_MB51_informe.xlsx\")\n",
    "\n",
    "# Etiquetas\n",
    "etiquetas_xlsx = os.path.join(path1, path2, path_carpeta_2, \"etiquetas.xlsx\")\n",
    "\n",
    "\n",
    "lista_rutas_xlsx_auto = [\n",
    "MM60_coq_auto_xlsx,\n",
    "Doc_compra_coq_auto_xlsx,\n",
    "compras_coq_auto_xlsx,\n",
    "Factura_coq_auto_xlsx,\n",
    "MB51_coq_auto_xlsx,\n",
    "ZMM_COMPRAS_CL_coq_auto_xlsx,\n",
    "stock_diario_coq_auto_xlsx,\n",
    "compras_hes_cl_coq_auto_xlsx,\n",
    "MB25_coq_auto_xlsx,\n",
    "control_entregas_coq_auto_xlsx,\n",
    "solped_coq_auto_xlsx,\n",
    "dcmarco_coq_auto_xlsx,\n",
    "DF_Compras_ingresos, # Nuevo libro con operaciones con openpyxl y xlwings\n",
    "DF_MB51_informe, # Nuevo libro con operaciones con openpyxl y xlwings\n",
    "etiquetas_xlsx #Libro creado a partir de archivo xlsx\n",
    "]\n"
   ]
  },
  {
   "cell_type": "markdown",
   "id": "4d5de2ae",
   "metadata": {},
   "source": [
    "# Usando xlwings.\n",
    "## Manipulando Data Fame combinado 2\n",
    "## #Manipulando DF_Combinado: (\"compras_coq_auto\") /y INGRESO (\"Doc_compra_coq_auto\") // FACTURAS (\"Factura_coq_auto_xlsx\")"
   ]
  },
  {
   "cell_type": "code",
   "execution_count": 13,
   "id": "4da4c55d",
   "metadata": {},
   "outputs": [],
   "source": [
    "# # Manipulando DF COMPRAS_BASE \n",
    "df_informe_compras = pd.read_excel(DF_Compras_ingresos)\n",
    "# df_ingresos = pd.read_excel(Doc_compra_coq_auto_xlsx)\n",
    "\n",
    "\n",
    "# Inicializando Excel para agregar formulas con xlwings\n",
    "book = xw.Book(DF_Compras_ingresos)\n",
    "book2 = xw.Book(Doc_compra_coq_auto_xlsx)\n"
   ]
  },
  {
   "cell_type": "code",
   "execution_count": 20,
   "id": "962ca324",
   "metadata": {},
   "outputs": [],
   "source": [
    "sheet1 = book.sheets['Output']\n",
    "\n",
    "# Funciona!!!\n",
    "# Columna \"Concatena_oc_pos\"\n",
    "sheet1.range(\"A2\").value = \"=T2&U2\"\n",
    "\n",
    "\n",
    "\n",
    "# Columna \"Gestion Oc\"\n",
    "sheet1.range(\"BF2\").value = \"=VLOOKUP(AK:AK,Hoja1!A:B,2,0)\"\n",
    "\n",
    "# Columna \"Grupo Compras\"\n",
    "sheet1.range(\"BG2\").value = '=IFERROR(VLOOKUP(AK:AK,Hoja1!E:F,2,0),\"No Identificado\")'\n",
    "\n",
    "# Columna \"mes documento\"\n",
    "sheet1.range(\"BH2\").value = '=TEXT(AL2,\"MMMM\")'\n",
    "\n",
    "# Columna \"Mes entrega\"\n",
    "sheet1.range(\"BI2\").value = '=TEXT(F:F,\"MMMM\")'\n",
    "\n",
    "# Columna \"Status_oc\"\n",
    "sheet1.range(\"BJ2\").value = '=IF(ISBLANK(D2),\"No Liberado\",\"Liberado\")'\n",
    "\n",
    "# # Columna \"Cta OC\"\n",
    "sheet1.range(\"BK2\").value = '=SI(T2=T1,0,1)'\n",
    "\n",
    "# Columna \"Sem\"\n",
    "sheet1.range(\"BL2\").value = '=IFERROR(WEEKNUM(AL2,2),\"\")'\n",
    "\n",
    "# Columna \"Año\"\n",
    "sheet1.range(\"BM2\").value = '=YEAR(AL:AL)'\n",
    "\n",
    "# Columna \"Doc. Ingreso\" cruzando libro Ingresos.\n",
    "sheet1.range(\"BN2\").value = '=IFERROR(VLOOKUP(A:A,[4_admitted.xlsx]Output!$A:$I,9,0),\"\")'\n",
    "\n",
    "# # Columna \"Fecha Ingreso\" cruzando libro Ingresos.\n",
    "# sheet1.range(\"BO2\").value = '=IFERROR(VLOOKUP($A:$A,[4_Doc_compra_excel.xlsx]Output!$A:$N,14,0),\"\")'\n",
    "\n",
    "# Columna \"Centro.\"\n",
    "sheet1.range(\"BP2\").value = \"=VLOOKUP(R:R,Hoja1!H:I,2,0)\""
   ]
  }
 ],
 "metadata": {
  "kernelspec": {
   "display_name": "Python 3 (ipykernel)",
   "language": "python",
   "name": "python3"
  },
  "language_info": {
   "codemirror_mode": {
    "name": "ipython",
    "version": 3
   },
   "file_extension": ".py",
   "mimetype": "text/x-python",
   "name": "python",
   "nbconvert_exporter": "python",
   "pygments_lexer": "ipython3",
   "version": "3.9.7"
  }
 },
 "nbformat": 4,
 "nbformat_minor": 5
}
